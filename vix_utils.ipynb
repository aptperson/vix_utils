{
 "cells": [
  {
   "cell_type": "markdown",
   "id": "69334115",
   "metadata": {},
   "source": [
    "Examples of Loading Term Structure (futures and spot vix indexes)"
   ]
  },
  {
   "cell_type": "code",
   "execution_count": null,
   "id": "f79247d9",
   "metadata": {},
   "outputs": [],
   "source": [
    "from src.vix_utils.download_vix_futures import VXFuturesDownloader\n",
    "from src.vix_utils.location import data_dir\n",
    "\n",
    "from pathlib import Path\n",
    "\n",
    "import asyncio\n",
    "import aiohttp\n",
    "\n",
    "async with aiohttp.ClientSession() as session:\n",
    " \n",
    "    v=VXFuturesDownloader(Path(''),session)\n",
    "\n",
    "    await asyncio.gather(v.download_monthly_futures())\n"
   ]
  },
  {
   "cell_type": "code",
   "execution_count": null,
   "id": "4b90d591",
   "metadata": {},
   "outputs": [],
   "source": []
  },
  {
   "cell_type": "code",
   "execution_count": null,
   "id": "e58e6b61",
   "metadata": {},
   "outputs": [],
   "source": [
    "Path('')"
   ]
  },
  {
   "cell_type": "code",
   "execution_count": null,
   "id": "68ab995c",
   "metadata": {},
   "outputs": [],
   "source": []
  },
  {
   "cell_type": "code",
   "execution_count": null,
   "id": "03c5bc24",
   "metadata": {},
   "outputs": [],
   "source": [
    "data_dir()"
   ]
  },
  {
   "cell_type": "code",
   "execution_count": null,
   "id": "9a78b9d0",
   "metadata": {},
   "outputs": [],
   "source": [
    "await dl.download_one_monthly_future(2024, 1)"
   ]
  },
  {
   "cell_type": "markdown",
   "id": "ec69b259",
   "metadata": {},
   "source": [
    "In Jupyter, use the vix_utils asynchronous functions to the load the data\n",
    "here we read the futures and spot term structure"
   ]
  },
  {
   "cell_type": "markdown",
   "id": "d08cf0b3",
   "metadata": {},
   "source": [
    "Another way, reading the futures, then the spot structure, in sequence instead of concurrently"
   ]
  },
  {
   "cell_type": "code",
   "execution_count": null,
   "id": "92f19995",
   "metadata": {},
   "outputs": [],
   "source": [
    "/Users/aptperson/source/trading/vix_utils/src/vix_utils/download_vix_futures.py"
   ]
  },
  {
   "cell_type": "code",
   "execution_count": null,
   "id": "4aac48ae",
   "metadata": {},
   "outputs": [],
   "source": [
    "vix_futures_skinny_2 = await vix_utils.async_load_vix_term_structure()\n",
    "vix_spot_2=await vix_utils.async_get_vix_index_histories()"
   ]
  },
  {
   "cell_type": "code",
   "execution_count": null,
   "id": "268eefc3",
   "metadata": {},
   "outputs": [],
   "source": [
    "vix_futures_skinny_2"
   ]
  },
  {
   "cell_type": "code",
   "execution_count": null,
   "id": "8737da5d",
   "metadata": {},
   "outputs": [],
   "source": []
  },
  {
   "cell_type": "markdown",
   "id": "b648822f",
   "metadata": {},
   "source": [
    "Another way to load the data, it won't work if you have a running event loop, \n",
    "like we do in Jupyter. If your project generally doesn't use asyncio, you can use these calls instead of the \n",
    "async_ calls to load the data.  Ignore the errors of the following cel."
   ]
  },
  {
   "cell_type": "code",
   "execution_count": null,
   "id": "1388fd57",
   "metadata": {},
   "outputs": [],
   "source": [
    "\n",
    "try:\n",
    "    vix_futures_skinny_3,vix_spot_3 = vix_utils.load_vix_term_structure(),vix_utils.get_vix_index_histories()\n",
    "except Exception as e:\n",
    "    print(\"use the api functions starting with async_ to load the term structure and vix index histories\")"
   ]
  },
  {
   "cell_type": "code",
   "execution_count": null,
   "id": "7bb42143",
   "metadata": {},
   "outputs": [],
   "source": [
    "#manipulate the data to get what we want to display\n",
    "vix_spot_wide=vix_utils.pivot_spot_term_structure_on_symbol(vix_spot)\n",
    "vix_futures_monthly_skinny=vix_utils.select_monthly_futures(vix_futures)\n",
    "vix_futures_wide=vix_utils.pivot_futures_on_monthly_tenor(vix_futures_monthly_skinny)\n",
    "vix_futures_wide=vix_utils.append_continuous_maturity_one_month(vix_futures_wide)\n",
    "selected_tenors=[1,1.5,2,3,4,5,6]\n",
    "original_vix_futures_wide=pd.DataFrame(vix_futures_wide)\n",
    "vix_futures_wide=vix_futures_wide[selected_tenors]\n",
    "vix_futures_wide\n",
    "\n",
    "\n"
   ]
  },
  {
   "cell_type": "code",
   "execution_count": null,
   "id": "5bb1b3a3",
   "metadata": {},
   "outputs": [],
   "source": [
    "\n",
    "vix_futures_wide=vix_utils.append_continuous_maturity_one_month(vix_futures_wide)\n",
    "vix_futures_wide\n"
   ]
  },
  {
   "cell_type": "code",
   "execution_count": null,
   "id": "60a58d86",
   "metadata": {},
   "outputs": [],
   "source": [
    "close=vix_futures_wide.swaplevel(axis=1)[\"Close\"]\n",
    "close"
   ]
  },
  {
   "cell_type": "code",
   "execution_count": null,
   "id": "62eca16d",
   "metadata": {},
   "outputs": [],
   "source": [
    "#plot futures\n",
    "close.plot()"
   ]
  },
  {
   "cell_type": "code",
   "execution_count": null,
   "id": "00758a83",
   "metadata": {},
   "outputs": [],
   "source": [
    "vix_spot_wide"
   ]
  },
  {
   "cell_type": "code",
   "execution_count": null,
   "id": "3ef185e2",
   "metadata": {},
   "outputs": [],
   "source": [
    "vix_spot_wide[\"Close\"][[\"VIX\",\"VIX9D\"]].plot()"
   ]
  },
  {
   "cell_type": "code",
   "execution_count": null,
   "id": "fe6b2e70",
   "metadata": {},
   "outputs": [],
   "source": [
    "vix_spot_wide[\"Close\"][[\"SHORTVOL\"]].plot()"
   ]
  },
  {
   "cell_type": "code",
   "execution_count": null,
   "id": "f732d32f",
   "metadata": {},
   "outputs": [],
   "source": [
    "def add_column_level(df:pd.DataFrame,var_name):\n",
    "        df2=pd.DataFrame(df)\n",
    "        idx=df2.columns.to_frame()\n",
    "        idx.insert(0,\"Variable\",var_name)\n",
    "        df2.columns=pd.MultiIndex.from_frame(idx)\n",
    "        return df2 \n"
   ]
  },
  {
   "cell_type": "markdown",
   "id": "8809898e",
   "metadata": {},
   "source": [
    "Compute the basis (future price - spot price) for the varous tenors and  VIX indexes. It is really only correct\n",
    "to compare the VIX index since the futures are trading on the VIX, not VIX9D etc. "
   ]
  },
  {
   "cell_type": "code",
   "execution_count": null,
   "id": "ed7dc06f",
   "metadata": {},
   "outputs": [],
   "source": [
    "vix_spot_history_closes=vix_spot_wide['Close']    \n",
    "vix_basis_by_index=[add_column_level(close.sub(vix_spot_history_closes[spot_symbol],axis=0),spot_symbol+\"_Basis\") for spot_symbol in [\"VIX9D\",\"VIX\",\"VIX3M\",\"GVZ\"]]\n",
    "\n",
    "closes=add_column_level(close,\"Futures\")\n",
    "vix_basis=pd.concat(chain([closes],vix_basis_by_index),axis=1,join=\"inner\")\n",
    "vix_basis \n"
   ]
  },
  {
   "cell_type": "code",
   "execution_count": null,
   "id": "83045156",
   "metadata": {},
   "outputs": [],
   "source": [
    "day_of_interest='2023-07-14'\n",
    "di_spot=vix_spot_history_closes.loc[day_of_interest]\n",
    "di_spot\n"
   ]
  },
  {
   "cell_type": "code",
   "execution_count": null,
   "id": "301310f9",
   "metadata": {},
   "outputs": [],
   "source": [
    "di_futures=vix_futures_wide.loc[[day_of_interest]]\n",
    "di_futures"
   ]
  },
  {
   "cell_type": "code",
   "execution_count": null,
   "id": "b3296243",
   "metadata": {},
   "outputs": [],
   "source": [
    "di_basis=vix_basis.loc[day_of_interest]\n",
    "di_basis[\"VIX_Basis\"]"
   ]
  },
  {
   "cell_type": "code",
   "execution_count": null,
   "id": "00ef882f",
   "metadata": {},
   "outputs": [],
   "source": [
    "cols_to_plot=[1,1.5] +  list(range(2,5))\n",
    "df_day_of_interest_to_plot=di_futures.swaplevel(axis=1)[['Close',\"Tenor_Days\"]]\n",
    "\n",
    "#.swaplevel(axis=1)[cols_to_plot].swaplevel()\n",
    "dx=df_day_of_interest_to_plot.T\n",
    "df_day_of_interest_to_plot\n"
   ]
  },
  {
   "cell_type": "code",
   "execution_count": null,
   "id": "2a103aa1",
   "metadata": {},
   "outputs": [],
   "source": [
    "df_day_of_interest_to_plot.plot(x=\"Tenor_Days\", y=\"Close\", kind = 'scatter', use_index=True)"
   ]
  },
  {
   "cell_type": "code",
   "execution_count": null,
   "id": "f3f881dc",
   "metadata": {},
   "outputs": [],
   "source": []
  }
 ],
 "metadata": {
  "kernelspec": {
   "display_name": "Python 3 (ipykernel)",
   "language": "python",
   "name": "python3"
  },
  "language_info": {
   "codemirror_mode": {
    "name": "ipython",
    "version": 3
   },
   "file_extension": ".py",
   "mimetype": "text/x-python",
   "name": "python",
   "nbconvert_exporter": "python",
   "pygments_lexer": "ipython3",
   "version": "3.10.14"
  }
 },
 "nbformat": 4,
 "nbformat_minor": 5
}
