{
 "cells": [
  {
   "cell_type": "markdown",
   "id": "69334115",
   "metadata": {},
   "source": [
    "Examples of Loading Term Structure (futures and spot vix indexes)"
   ]
  },
  {
   "cell_type": "code",
   "execution_count": null,
   "id": "f79247d9",
   "metadata": {},
   "outputs": [],
   "source": [
    "import os\n",
    "\n",
    "import numpy as np\n",
    "import pandas as pd\n",
    "\n",
    "import plotly.express as px"
   ]
  },
  {
   "cell_type": "code",
   "execution_count": null,
   "id": "4b90d591",
   "metadata": {},
   "outputs": [],
   "source": [
    "base_data_path = '/Users/aptperson/source/trading/vix_utils/futures/download/monthly'\n",
    "fns = os.listdir(base_data_path)\n",
    "fns = [f for f in fns if f.endswith('.csv')]\n",
    "# fns = [f for f in fns if '_VXM_' not in f]\n",
    "fns = [f for f in fns if '_VX_' not in f]\n",
    "df = pd.concat([pd.read_csv(os.path.join(base_data_path, f)) for f in fns])\n",
    "df.index = pd.to_datetime(df['Trade Date'])\n",
    "df.index.name = 'date'\n",
    "df['ret'] = np.log(df.Close)\n",
    "df['ret'] = df.groupby('Futures').ret.diff().shift(-1)\n",
    "df"
   ]
  },
  {
   "cell_type": "code",
   "execution_count": null,
   "id": "e58e6b61",
   "metadata": {},
   "outputs": [],
   "source": [
    "px.line(df, y='Close', color='Futures')"
   ]
  },
  {
   "cell_type": "code",
   "execution_count": null,
   "id": "68ab995c",
   "metadata": {},
   "outputs": [],
   "source": [
    "px.line(df, y='Total Volume', color='Futures')"
   ]
  },
  {
   "cell_type": "code",
   "execution_count": null,
   "id": "03c5bc24",
   "metadata": {},
   "outputs": [],
   "source": [
    "#### continuous futures series\n",
    "\n",
    "# assume that the end of file is the last trading day\n",
    "# N days before, roll\n",
    "# backwardation/contango\n",
    "\n",
    "# volume roll"
   ]
  },
  {
   "cell_type": "code",
   "execution_count": null,
   "id": "fae05d80",
   "metadata": {},
   "outputs": [],
   "source": [
    "# last day for each contract\n",
    "N = 3\n",
    "expiry_dates = df.reset_index().groupby('Futures').date.max().to_frame('expiry').reset_index().sort_values(['expiry', 'Futures'])\n",
    "roll_dates = expiry_dates.copy()\n",
    "roll_dates['roll'] = roll_dates['expiry'] - pd.Timedelta(days=N)\n",
    "roll_dates['roll_to'] = roll_dates.roll.shift(1)\n",
    "roll_dates.drop_duplicates(subset=['expiry', 'roll', 'roll_to'], inplace=True)\n",
    "# roll_dates.dropna(inplace=True)\n",
    "roll_dates['next_future'] = roll_dates.Futures.shift(-1)\n",
    "roll_dates['n2_future'] = roll_dates.Futures.shift(-2)\n",
    "roll_dates = roll_dates.loc[roll_dates.roll > roll_dates.roll_to]\n",
    "roll_dates.tail(10)\n"
   ]
  },
  {
   "cell_type": "code",
   "execution_count": null,
   "id": "b4827e8f",
   "metadata": {},
   "outputs": [],
   "source": [
    "continuous_df = pd.DataFrame(index=df.reset_index().date.unique()).sort_index()\n",
    "continuous_df.index.name = 'date'\n",
    "continuous_df = pd.merge_asof(continuous_df, left_index=True, right=roll_dates, right_on='roll_to', direction='backward')#.tail(50)\n",
    "continuous_df = pd.merge(continuous_df.reset_index(), on=['Futures', 'date'], right = df.reset_index()[['date', 'Futures', 'ret', 'Close']], how='left')\n",
    "\n",
    "continuous_df = pd.merge(continuous_df.reset_index(), left_on=['next_future', 'date'], right = df.reset_index()[['date', 'Futures', 'Close']], right_on=['Futures', 'date'], suffixes=['', '_next'], how='left')\n",
    "continuous_df = pd.merge(continuous_df, left_on=['n2_future', 'date'], right = df.reset_index()[['date', 'Futures', 'Close']], right_on=['Futures', 'date'], suffixes=['', '_n2'], how='left')\n",
    "\n",
    "continuous_df['cpnl'] = -continuous_df.ret.cumsum()\n",
    "continuous_df.set_index('date', inplace=True)\n",
    "continuous_df.dropna(subset=['ret'], inplace=True)\n",
    "\n",
    "sr = -continuous_df.ret.mean() / continuous_df.ret.std() * np.sqrt(252)\n",
    "print(f'SR: {sr:.2f}')\n",
    "\n",
    "years = continuous_df.index.values[-1] - continuous_df.index.values[0]\n",
    "years = int(years) / (365 * 24 * 60 * 60) / 1e9\n",
    "cagr = (continuous_df.cpnl.values[-1]) ** (1/years) - 1\n",
    "\n",
    "print(f'CAGR: {cagr*100:.1f}% ({years:.1f}years) ({continuous_df.cpnl.values[-1]:.1f}) Wealth multiple')\n",
    "\n",
    "px.line(continuous_df, y='cpnl')"
   ]
  },
  {
   "cell_type": "code",
   "execution_count": null,
   "id": "8bcc54c6",
   "metadata": {},
   "outputs": [],
   "source": [
    "continuous_df['term_structure'] = 'contango'\n",
    "continuous_df.loc[continuous_df.Close > continuous_df.Close_next, 'term_structure'] = 'backwardation'\n",
    "\n",
    "continuous_df['term_structure_n2'] = 'contango'\n",
    "continuous_df.loc[continuous_df.Close_next > continuous_df.Close_n2, 'term_structure_n2'] = 'backwardation'\n",
    "\n",
    "continuous_df.groupby(['term_structure', 'term_structure_n2']).ret.describe()"
   ]
  },
  {
   "cell_type": "code",
   "execution_count": null,
   "id": "2a7eac3f",
   "metadata": {},
   "outputs": [],
   "source": [
    "px.histogram(continuous_df, x='ret', color='term_structure_n2')"
   ]
  },
  {
   "cell_type": "code",
   "execution_count": null,
   "id": "096b1e8a",
   "metadata": {},
   "outputs": [],
   "source": [
    "continuous_df = pd.DataFrame(index=df.reset_index().date.unique()).sort_index()\n",
    "continuous_df.index.name = 'date'\n",
    "continuous_df = pd.merge_asof(continuous_df, left_index=True, right=roll_dates, right_on='roll_to', direction='backward')#.tail(50)\n",
    "continuous_df = pd.merge(continuous_df.reset_index(), on=['Futures', 'date'], right = df.reset_index()[['date', 'Futures', 'ret', 'Close']], how='left')\n",
    "continuous_df = pd.merge(continuous_df.reset_index(), left_on=['next_future', 'date'], right = df.reset_index()[['date', 'Futures', 'Close']], right_on=['Futures', 'date'], suffixes=['', '_next'], how='left')\n",
    "continuous_df = pd.merge(continuous_df, left_on=['n2_future', 'date'], right = df.reset_index()[['date', 'Futures', 'Close']], right_on=['Futures', 'date'], suffixes=['', '_n2'], how='left')\n",
    "\n",
    "\n",
    "continuous_df['term_structure'] = 'contango'\n",
    "continuous_df.loc[continuous_df.Close > continuous_df.Close_next, 'term_structure'] = 'backwardation'\n",
    "\n",
    "continuous_df['term_structure_n2'] = 'contango'\n",
    "continuous_df.loc[continuous_df.Close_next > continuous_df.Close_n2, 'term_structure_n2'] = 'backwardation'\n",
    "\n",
    "# continuous_df.loc[continuous_df.term_structure == 'backwardation', 'ret'] = 0\n",
    "mask = ((continuous_df.term_structure == 'contango') & (continuous_df.term_structure_n2 == 'contango')) | ((continuous_df.term_structure == 'backwardation') & (continuous_df.term_structure_n2 == 'backwardation')) \n",
    "continuous_df.loc[~mask, 'ret'] = 0\n",
    "\n",
    "continuous_df['cpnl'] = -continuous_df.ret.cumsum()\n",
    "continuous_df.set_index('date', inplace=True)\n",
    "continuous_df.dropna(subset=['ret'], inplace=True)\n",
    "\n",
    "sr = -continuous_df.ret.mean() / continuous_df.ret.std() * np.sqrt(252)\n",
    "print(f'SR: {sr:.2f}')\n",
    "\n",
    "years = continuous_df.index.values[-1] - continuous_df.index.values[0]\n",
    "years = int(years) / (365 * 24 * 60 * 60) / 1e9\n",
    "cagr = (continuous_df.cpnl.values[-1]) ** (1/years) - 1\n",
    "\n",
    "print(f'CAGR: {cagr*100:.1f}% ({years:.1f}years) ({continuous_df.cpnl.values[-1]:.1f}) Wealth multiple')\n",
    "\n",
    "px.line(continuous_df, y='cpnl', hover_data=['Close', 'Close_next', 'Close_n2'])"
   ]
  },
  {
   "cell_type": "code",
   "execution_count": null,
   "id": "00030541",
   "metadata": {},
   "outputs": [],
   "source": [
    "continuous_df['ts_distance'] = continuous_df.Close - continuous_df.Close_next\n",
    "print(continuous_df[['ts_distance', 'ret']].corr())\n",
    "px.scatter(continuous_df, x='ts_distance', y='ret')"
   ]
  },
  {
   "cell_type": "code",
   "execution_count": null,
   "id": "95b3cc24",
   "metadata": {},
   "outputs": [],
   "source": [
    "continuous_df['ts_distance_bucket'] = (continuous_df['ts_distance']).round(0)\n",
    "plot_df = continuous_df.groupby(['ts_distance_bucket']).ret.mean().to_frame('ret')\n",
    "plot_df['count'] = continuous_df.groupby(['ts_distance_bucket']).size()\n",
    "plot_df['std'] = continuous_df.groupby(['ts_distance_bucket']).ret.std()\n",
    "plot_df['Z'] = plot_df['ret'] / plot_df['std']\n",
    "px.bar(plot_df, y='Z', hover_data=['count', 'std'])\n"
   ]
  },
  {
   "cell_type": "code",
   "execution_count": null,
   "id": "d2699436",
   "metadata": {},
   "outputs": [],
   "source": [
    "continuous_df = pd.DataFrame(index=df.reset_index().date.unique()).sort_index()\n",
    "continuous_df.index.name = 'date'\n",
    "continuous_df = pd.merge_asof(continuous_df, left_index=True, right=roll_dates, right_on='roll_to', direction='backward')#.tail(50)\n",
    "continuous_df = pd.merge(continuous_df.reset_index(), on=['Futures', 'date'], right = df.reset_index()[['date', 'Futures', 'ret', 'Close']], how='left')\n",
    "\n",
    "continuous_df = pd.merge(continuous_df.reset_index(), left_on=['next_future', 'date'], right = df.reset_index()[['date', 'Futures', 'Close']], right_on=['Futures', 'date'], suffixes=['', '_next'], how='left')\n",
    "continuous_df['term_structure'] = 'contango'\n",
    "continuous_df.loc[continuous_df.Close > continuous_df.Close_next, 'term_structure'] = 'backwardation'\n",
    "\n",
    "continuous_df['ts_distance'] = continuous_df.Close - continuous_df.Close_next\n",
    "continuous_df['ts_distance_bucket'] = (continuous_df['ts_distance'] / 2).round(0)\n",
    "\n",
    "continuous_df.loc[~continuous_df.ts_distance_bucket.isin([-2, -1, 0, 1]), 'ret'] = 0\n",
    "\n",
    "\n",
    "continuous_df['cpnl'] = -continuous_df.ret # * continuous_df.ts_distance\n",
    "continuous_df['cpnl'] = continuous_df['cpnl'].cumsum()\n",
    "continuous_df.set_index('date', inplace=True)\n",
    "continuous_df.dropna(subset=['ret'], inplace=True)\n",
    "\n",
    "sr = -continuous_df.ret.mean() / continuous_df.ret.std() * np.sqrt(252)\n",
    "print(f'SR: {sr:.2f}')\n",
    "\n",
    "years = continuous_df.index.values[-1] - continuous_df.index.values[0]\n",
    "years = int(years) / (365 * 24 * 60 * 60) / 1e9\n",
    "cagr = (continuous_df.cpnl.values[-1]) ** (1/years) - 1\n",
    "\n",
    "print(f'CAGR: {cagr*100:.1f}% ({years:.1f}years) ({continuous_df.cpnl.values[-1]:.1f}) Wealth multiple')\n",
    "\n",
    "px.scatter(continuous_df, y='cpnl', color='ts_distance')"
   ]
  },
  {
   "cell_type": "code",
   "execution_count": null,
   "id": "dcdaace4",
   "metadata": {},
   "outputs": [],
   "source": []
  }
 ],
 "metadata": {
  "kernelspec": {
   "display_name": "Python 3 (ipykernel)",
   "language": "python",
   "name": "python3"
  },
  "language_info": {
   "codemirror_mode": {
    "name": "ipython",
    "version": 3
   },
   "file_extension": ".py",
   "mimetype": "text/x-python",
   "name": "python",
   "nbconvert_exporter": "python",
   "pygments_lexer": "ipython3",
   "version": "3.10.14"
  }
 },
 "nbformat": 4,
 "nbformat_minor": 5
}
